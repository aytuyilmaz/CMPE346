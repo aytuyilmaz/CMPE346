{
  "nbformat": 4,
  "nbformat_minor": 0,
  "metadata": {
    "colab": {
      "name": "phase1.ipynb",
      "provenance": [],
      "collapsed_sections": []
    },
    "kernelspec": {
      "name": "python3",
      "display_name": "Python 3"
    },
    "language_info": {
      "name": "python"
    }
  },
  "cells": [
    {
      "cell_type": "code",
      "metadata": {
        "colab": {
          "base_uri": "https://localhost:8080/"
        },
        "id": "SfzNovjhaj8t",
        "outputId": "efa0c7d7-320c-46d7-e9f1-2f1d500f689a"
      },
      "source": [
        "import nltk\n",
        "nltk.download('punkt')\n",
        "nltk.download('stopwords')\n",
        "from nltk.probability import FreqDist\n",
        "from nltk.corpus import stopwords\n",
        "from nltk.tokenize import word_tokenize"
      ],
      "execution_count": null,
      "outputs": [
        {
          "output_type": "stream",
          "text": [
            "[nltk_data] Downloading package punkt to /root/nltk_data...\n",
            "[nltk_data]   Package punkt is already up-to-date!\n",
            "[nltk_data] Downloading package stopwords to /root/nltk_data...\n",
            "[nltk_data]   Package stopwords is already up-to-date!\n"
          ],
          "name": "stdout"
        }
      ]
    },
    {
      "cell_type": "code",
      "metadata": {
        "colab": {
          "base_uri": "https://localhost:8080/"
        },
        "id": "_ZTwoKUtcVQG",
        "outputId": "77f2b9a6-1817-4dce-e4c2-993fd0cd7d19"
      },
      "source": [
        "text=('''\n",
        "If you are into John Wick type of films, you will be quite interested. But Nobody is not exactly that kind of film this one. Mostly because there is no horse-riding and cartoon-ish absurdity in action sequences. There's \"slightly\" more realism and the fact that the hero of this film seems vulnerable makes it more interesting; Bob Odenkirk does look like an everyday day guy in this film. But the action scenes and the fights are excellent and he does an excellent job nailing them! Nobody has released in 2021 and rated 7.4 on iMDb. So  it is in the 10 best movies of 2021 so far, ranked according to IMDb. The film starts off well, somewhat slow and picks up faster pace within 20 min. Right at that point, there is one scene which is rather stupidly set-up to give way for the rest of the story...the one with the bus...but later things do improve. The bus sequence is excellent action, don't get me wrong. It's just the way it was setup prior to the action. But... don't look for any script consistency...just enjoy. Runtime is excellent for this genre; just 1h 30min, it never ever gets boring. It's just a cool movie overall, it won't get an Oscar or stay in your movie library but it will provide great entertainment!\n",
        "''')\n",
        "\n",
        "#tokenize the text into words\n",
        "\n",
        "tokenized = nltk.word_tokenize(text)\n",
        "\n",
        "print(tokenized)\n"
      ],
      "execution_count": null,
      "outputs": [
        {
          "output_type": "stream",
          "text": [
            "['If', 'you', 'are', 'into', 'John', 'Wick', 'type', 'of', 'films', ',', 'you', 'will', 'be', 'quite', 'interested', '.', 'But', 'Nobody', 'is', 'not', 'exactly', 'that', 'kind', 'of', 'film', 'this', 'one', '.', 'Mostly', 'because', 'there', 'is', 'no', 'horse-riding', 'and', 'cartoon-ish', 'absurdity', 'in', 'action', 'sequences', '.', 'There', \"'s\", '``', 'slightly', \"''\", 'more', 'realism', 'and', 'the', 'fact', 'that', 'the', 'hero', 'of', 'this', 'film', 'seems', 'vulnerable', 'makes', 'it', 'more', 'interesting', ';', 'Bob', 'Odenkirk', 'does', 'look', 'like', 'an', 'everyday', 'day', 'guy', 'in', 'this', 'film', '.', 'But', 'the', 'action', 'scenes', 'and', 'the', 'fights', 'are', 'excellent', 'and', 'he', 'does', 'an', 'excellent', 'job', 'nailing', 'them', '!', 'Nobody', 'has', 'released', 'in', '2021', 'and', 'rated', '7.4', 'on', 'iMDb', '.', 'So', 'it', 'is', 'in', 'the', '10', 'best', 'movies', 'of', '2021', 'so', 'far', ',', 'ranked', 'according', 'to', 'IMDb', '.', 'The', 'film', 'starts', 'off', 'well', ',', 'somewhat', 'slow', 'and', 'picks', 'up', 'faster', 'pace', 'within', '20', 'min', '.', 'Right', 'at', 'that', 'point', ',', 'there', 'is', 'one', 'scene', 'which', 'is', 'rather', 'stupidly', 'set-up', 'to', 'give', 'way', 'for', 'the', 'rest', 'of', 'the', 'story', '...', 'the', 'one', 'with', 'the', 'bus', '...', 'but', 'later', 'things', 'do', 'improve', '.', 'The', 'bus', 'sequence', 'is', 'excellent', 'action', ',', 'do', \"n't\", 'get', 'me', 'wrong', '.', 'It', \"'s\", 'just', 'the', 'way', 'it', 'was', 'setup', 'prior', 'to', 'the', 'action', '.', 'But', '...', 'do', \"n't\", 'look', 'for', 'any', 'script', 'consistency', '...', 'just', 'enjoy', '.', 'Runtime', 'is', 'excellent', 'for', 'this', 'genre', ';', 'just', '1h', '30min', ',', 'it', 'never', 'ever', 'gets', 'boring', '.', 'It', \"'s\", 'just', 'a', 'cool', 'movie', 'overall', ',', 'it', 'wo', \"n't\", 'get', 'an', 'Oscar', 'or', 'stay', 'in', 'your', 'movie', 'library', 'but', 'it', 'will', 'provide', 'great', 'entertainment', '!']\n"
          ],
          "name": "stdout"
        }
      ]
    },
    {
      "cell_type": "code",
      "metadata": {
        "colab": {
          "base_uri": "https://localhost:8080/"
        },
        "id": "oQi4U4PqhngU",
        "outputId": "db90780c-3992-4be0-e147-ae44a6178ceb"
      },
      "source": [
        "#take out the stop words of English language from the tokenized text\n",
        "stop_words = set(stopwords.words(\"english\"))\n",
        "tokens_without_sw = [word for word in tokenized if not word in stopwords.words()]\n",
        "print(tokens_without_sw)"
      ],
      "execution_count": null,
      "outputs": [
        {
          "output_type": "stream",
          "text": [
            "['If', 'John', 'Wick', 'type', 'films', ',', 'quite', 'interested', '.', 'But', 'Nobody', 'exactly', 'kind', 'film', '.', 'Mostly', 'horse-riding', 'cartoon-ish', 'absurdity', 'action', 'sequences', '.', 'There', \"'s\", '``', 'slightly', \"''\", 'realism', 'fact', 'hero', 'film', 'seems', 'vulnerable', 'makes', 'interesting', ';', 'Bob', 'Odenkirk', 'look', 'like', 'everyday', 'day', 'guy', 'film', '.', 'But', 'action', 'scenes', 'fights', 'excellent', 'excellent', 'job', 'nailing', '!', 'Nobody', 'released', '2021', 'rated', '7.4', 'iMDb', '.', 'So', '10', 'best', 'movies', '2021', 'far', ',', 'ranked', 'according', 'IMDb', '.', 'The', 'film', 'starts', 'well', ',', 'somewhat', 'slow', 'picks', 'faster', 'pace', 'within', '20', '.', 'Right', 'point', ',', 'scene', 'rather', 'stupidly', 'set-up', 'give', 'way', 'rest', 'story', '...', 'bus', '...', 'later', 'things', 'improve', '.', 'The', 'bus', 'sequence', 'excellent', 'action', ',', \"n't\", 'get', 'wrong', '.', 'It', \"'s\", 'way', 'setup', 'prior', 'action', '.', 'But', '...', \"n't\", 'look', 'script', 'consistency', '...', 'enjoy', '.', 'Runtime', 'excellent', 'genre', ';', '1h', '30min', ',', 'never', 'ever', 'gets', 'boring', '.', 'It', \"'s\", 'cool', 'movie', 'overall', ',', \"n't\", 'get', 'Oscar', 'stay', 'movie', 'library', 'provide', 'great', 'entertainment', '!']\n"
          ],
          "name": "stdout"
        }
      ]
    },
    {
      "cell_type": "code",
      "metadata": {
        "id": "XDOlWdxGcVgO",
        "colab": {
          "base_uri": "https://localhost:8080/"
        },
        "outputId": "90498f6e-27b3-4208-dee9-2a0dd0e288a2"
      },
      "source": [
        "#PorterStemmer\n",
        "from nltk.stem import PorterStemmer\n",
        "ps = PorterStemmer()\n",
        "filtered_sentences_porter = []\n",
        "for w in tokenized:\n",
        "    stm = (ps.stem(w))\n",
        "    filtered_sentences_porter.append(stm)\n",
        "print(filtered_sentences_porter)"
      ],
      "execution_count": null,
      "outputs": [
        {
          "output_type": "stream",
          "text": [
            "['If', 'you', 'are', 'into', 'john', 'wick', 'type', 'of', 'film', ',', 'you', 'will', 'be', 'quit', 'interest', '.', 'but', 'nobodi', 'is', 'not', 'exactli', 'that', 'kind', 'of', 'film', 'thi', 'one', '.', 'mostli', 'becaus', 'there', 'is', 'no', 'horse-rid', 'and', 'cartoon-ish', 'absurd', 'in', 'action', 'sequenc', '.', 'there', \"'s\", '``', 'slightli', \"''\", 'more', 'realism', 'and', 'the', 'fact', 'that', 'the', 'hero', 'of', 'thi', 'film', 'seem', 'vulner', 'make', 'it', 'more', 'interest', ';', 'bob', 'odenkirk', 'doe', 'look', 'like', 'an', 'everyday', 'day', 'guy', 'in', 'thi', 'film', '.', 'but', 'the', 'action', 'scene', 'and', 'the', 'fight', 'are', 'excel', 'and', 'he', 'doe', 'an', 'excel', 'job', 'nail', 'them', '!', 'nobodi', 'ha', 'releas', 'in', '2021', 'and', 'rate', '7.4', 'on', 'imdb', '.', 'So', 'it', 'is', 'in', 'the', '10', 'best', 'movi', 'of', '2021', 'so', 'far', ',', 'rank', 'accord', 'to', 'imdb', '.', 'the', 'film', 'start', 'off', 'well', ',', 'somewhat', 'slow', 'and', 'pick', 'up', 'faster', 'pace', 'within', '20', 'min', '.', 'right', 'at', 'that', 'point', ',', 'there', 'is', 'one', 'scene', 'which', 'is', 'rather', 'stupidli', 'set-up', 'to', 'give', 'way', 'for', 'the', 'rest', 'of', 'the', 'stori', '...', 'the', 'one', 'with', 'the', 'bu', '...', 'but', 'later', 'thing', 'do', 'improv', '.', 'the', 'bu', 'sequenc', 'is', 'excel', 'action', ',', 'do', \"n't\", 'get', 'me', 'wrong', '.', 'It', \"'s\", 'just', 'the', 'way', 'it', 'wa', 'setup', 'prior', 'to', 'the', 'action', '.', 'but', '...', 'do', \"n't\", 'look', 'for', 'ani', 'script', 'consist', '...', 'just', 'enjoy', '.', 'runtim', 'is', 'excel', 'for', 'thi', 'genr', ';', 'just', '1h', '30min', ',', 'it', 'never', 'ever', 'get', 'bore', '.', 'It', \"'s\", 'just', 'a', 'cool', 'movi', 'overal', ',', 'it', 'wo', \"n't\", 'get', 'an', 'oscar', 'or', 'stay', 'in', 'your', 'movi', 'librari', 'but', 'it', 'will', 'provid', 'great', 'entertain', '!']\n"
          ],
          "name": "stdout"
        }
      ]
    },
    {
      "cell_type": "code",
      "metadata": {
        "id": "rrBkasl9cVlV",
        "colab": {
          "base_uri": "https://localhost:8080/"
        },
        "outputId": "c04ea7d3-6987-42c9-e9bd-df9aa038216c"
      },
      "source": [
        "#SnowballStemmer\n",
        "from nltk.stem import SnowballStemmer\n",
        "snowball = SnowballStemmer(language='english')\n",
        "filtered_sentences_snowball = []\n",
        "for w in tokenized:\n",
        "    stm = (snowball.stem(w))\n",
        "    filtered_sentences_snowball.append(stm)\n",
        "print(filtered_sentences_snowball)"
      ],
      "execution_count": null,
      "outputs": [
        {
          "output_type": "stream",
          "text": [
            "['if', 'you', 'are', 'into', 'john', 'wick', 'type', 'of', 'film', ',', 'you', 'will', 'be', 'quit', 'interest', '.', 'but', 'nobodi', 'is', 'not', 'exact', 'that', 'kind', 'of', 'film', 'this', 'one', '.', 'most', 'becaus', 'there', 'is', 'no', 'horse-rid', 'and', 'cartoon-ish', 'absurd', 'in', 'action', 'sequenc', '.', 'there', \"'s\", '``', 'slight', \"''\", 'more', 'realism', 'and', 'the', 'fact', 'that', 'the', 'hero', 'of', 'this', 'film', 'seem', 'vulner', 'make', 'it', 'more', 'interest', ';', 'bob', 'odenkirk', 'doe', 'look', 'like', 'an', 'everyday', 'day', 'guy', 'in', 'this', 'film', '.', 'but', 'the', 'action', 'scene', 'and', 'the', 'fight', 'are', 'excel', 'and', 'he', 'doe', 'an', 'excel', 'job', 'nail', 'them', '!', 'nobodi', 'has', 'releas', 'in', '2021', 'and', 'rate', '7.4', 'on', 'imdb', '.', 'so', 'it', 'is', 'in', 'the', '10', 'best', 'movi', 'of', '2021', 'so', 'far', ',', 'rank', 'accord', 'to', 'imdb', '.', 'the', 'film', 'start', 'off', 'well', ',', 'somewhat', 'slow', 'and', 'pick', 'up', 'faster', 'pace', 'within', '20', 'min', '.', 'right', 'at', 'that', 'point', ',', 'there', 'is', 'one', 'scene', 'which', 'is', 'rather', 'stupid', 'set-up', 'to', 'give', 'way', 'for', 'the', 'rest', 'of', 'the', 'stori', '...', 'the', 'one', 'with', 'the', 'bus', '...', 'but', 'later', 'thing', 'do', 'improv', '.', 'the', 'bus', 'sequenc', 'is', 'excel', 'action', ',', 'do', \"n't\", 'get', 'me', 'wrong', '.', 'it', \"'s\", 'just', 'the', 'way', 'it', 'was', 'setup', 'prior', 'to', 'the', 'action', '.', 'but', '...', 'do', \"n't\", 'look', 'for', 'ani', 'script', 'consist', '...', 'just', 'enjoy', '.', 'runtim', 'is', 'excel', 'for', 'this', 'genr', ';', 'just', '1h', '30min', ',', 'it', 'never', 'ever', 'get', 'bore', '.', 'it', \"'s\", 'just', 'a', 'cool', 'movi', 'overal', ',', 'it', 'wo', \"n't\", 'get', 'an', 'oscar', 'or', 'stay', 'in', 'your', 'movi', 'librari', 'but', 'it', 'will', 'provid', 'great', 'entertain', '!']\n"
          ],
          "name": "stdout"
        }
      ]
    },
    {
      "cell_type": "code",
      "metadata": {
        "colab": {
          "base_uri": "https://localhost:8080/"
        },
        "id": "uYc1JeI451pE",
        "outputId": "10ec0994-bb0c-4d02-f3cc-9c02295314a4"
      },
      "source": [
        "#Different words between two stemming algorithms\n",
        "print(\"Words in porter but not in snowball : \" , list(set(filtered_sentences_porter) - set(filtered_sentences_snowball)))\n",
        "print(\"Words in snowball but not in porter : \" , list(set(filtered_sentences_snowball) - set(filtered_sentences_porter)))"
      ],
      "execution_count": null,
      "outputs": [
        {
          "output_type": "stream",
          "text": [
            "Words in porter but not in snowball :  ['If', 'ha', 'It', 'bu', 'wa', 'stupidli', 'thi', 'slightli', 'exactli', 'So', 'mostli']\n",
            "Words in snowball but not in porter :  ['stupid', 'was', 'has', 'slight', 'most', 'bus', 'this', 'if', 'exact']\n"
          ],
          "name": "stdout"
        }
      ]
    },
    {
      "cell_type": "code",
      "metadata": {
        "colab": {
          "base_uri": "https://localhost:8080/"
        },
        "id": "gRdNd1VkqRqj",
        "outputId": "af201109-073d-4f99-9df6-8cfc219cfddc"
      },
      "source": [
        "#Frequency distribution information of the stemmed text\n",
        "result = nltk.FreqDist(filtered_sentences_porter)\n",
        "result2 = nltk.FreqDist(filtered_sentences_snowball)\n",
        "print(\"Porter Stemmer: \" , result)\n",
        "print(\"Snowball Stemmer: \" , result2)"
      ],
      "execution_count": null,
      "outputs": [
        {
          "output_type": "stream",
          "text": [
            "Porter Stemmer:  <FreqDist with 145 samples and 260 outcomes>\n",
            "Snowball Stemmer:  <FreqDist with 143 samples and 260 outcomes>\n"
          ],
          "name": "stdout"
        }
      ]
    },
    {
      "cell_type": "code",
      "metadata": {
        "colab": {
          "base_uri": "https://localhost:8080/"
        },
        "id": "eY6CPn1cqgEB",
        "outputId": "5531fa65-e134-4e08-8f1c-55110340dcc1"
      },
      "source": [
        "#The most frequent 10 stems\n",
        "from collections import Counter\n",
        "Counter = Counter(filtered_sentences_porter)\n",
        "most_occur = Counter.most_common(10)\n",
        "print(most_occur)\n"
      ],
      "execution_count": null,
      "outputs": [
        {
          "output_type": "stream",
          "text": [
            "[('the', 13), ('.', 12), (',', 7), ('is', 7), ('and', 6), ('it', 6), ('of', 5), ('film', 5), ('but', 5), ('in', 5)]\n"
          ],
          "name": "stdout"
        }
      ]
    },
    {
      "cell_type": "code",
      "metadata": {
        "colab": {
          "base_uri": "https://localhost:8080/",
          "height": 327
        },
        "id": "URDrjGIYrFzU",
        "outputId": "8c85b1af-6965-49b0-cd64-046d54647984"
      },
      "source": [
        "#Visualization of the frequency distribution (50 words)\n",
        "fdist_filtered = FreqDist(filtered_sentences_porter)\n",
        "fdist_filtered.plot(50,title='Frequency Distribution')"
      ],
      "execution_count": null,
      "outputs": [
        {
          "output_type": "display_data",
          "data": {
            "image/png": "[encoded data removed]",
            "text/plain": [
              "<Figure size 432x288 with 1 Axes>"
            ]
          },
          "metadata": {
            "tags": [],
            "needs_background": "light"
          }
        }
      ]
    },
    {
      "cell_type": "code",
      "metadata": {
        "colab": {
          "base_uri": "https://localhost:8080/"
        },
        "id": "weg5pgyJsup4",
        "outputId": "bd8b9a4f-8073-4574-a4b1-448835aee1c9"
      },
      "source": [
        "#Words from the text which have more than 10 letters\n",
        "long_words = [word for word in tokenized if len(word) > 10]\n",
        "print(long_words)"
      ],
      "execution_count": null,
      "outputs": [
        {
          "output_type": "stream",
          "text": [
            "['horse-riding', 'cartoon-ish', 'interesting', 'consistency', 'entertainment']\n"
          ],
          "name": "stdout"
        }
      ]
    }
  ]
}